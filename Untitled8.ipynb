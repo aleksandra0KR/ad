{
  "nbformat": 4,
  "nbformat_minor": 0,
  "metadata": {
    "colab": {
      "provenance": [],
      "authorship_tag": "ABX9TyMQS5MECrykKPru4sFzk57D",
      "include_colab_link": true
    },
    "kernelspec": {
      "name": "python3",
      "display_name": "Python 3"
    },
    "language_info": {
      "name": "python"
    }
  },
  "cells": [
    {
      "cell_type": "markdown",
      "metadata": {
        "id": "view-in-github",
        "colab_type": "text"
      },
      "source": [
        "<a href=\"https://colab.research.google.com/github/aleksandra0KR/ad/blob/main/Untitled8.ipynb\" target=\"_parent\"><img src=\"https://colab.research.google.com/assets/colab-badge.svg\" alt=\"Open In Colab\"/></a>"
      ]
    },
    {
      "cell_type": "markdown",
      "source": [
        "Лабораторная работа 1\n",
        "“Сбор, визуализация и анализ данных по графу”\n"
      ],
      "metadata": {
        "id": "5wPENFWUXyoP"
      }
    },
    {
      "cell_type": "code",
      "source": [],
      "metadata": {
        "id": "WFMR5khrX12L"
      },
      "execution_count": null,
      "outputs": []
    }
  ]
}